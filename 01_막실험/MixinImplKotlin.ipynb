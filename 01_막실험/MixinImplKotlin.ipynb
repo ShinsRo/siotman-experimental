{
 "cells": [
  {
   "metadata": {},
   "cell_type": "markdown",
   "source": "**Kotlin Notebook 플러그인 설치해야 보이는 점 잊지말자**"
  },
  {
   "metadata": {},
   "cell_type": "code",
   "outputs": [],
   "execution_count": null,
   "source": [
    "// 이하 두 클래스를 수정하지 않고 login 를 호출하고 싶다.\n",
    "data class User(val id: Int)\n",
    "data class Admin(val id: Int)\n",
    "\n",
    "// User.login()\n",
    "// Admin.login()"
   ]
  },
  {
   "metadata": {},
   "cell_type": "markdown",
   "source": [
    "- 각 클래스 외부에서 호출 가능해야한다.\n",
    "- Mixin 클래스를 따로 정의할 경우, 그 클래스는 상태를 갖을 수 없다.\n",
    "\n",
    "[이 블로그](https://benoitaverty.com/articles/en/kotlin-mixins-using-delegation) 가 참고가 되긴 하는데...\n",
    "이 식대로 하자면 User 와 Admin 클래스 선언에 뭔가를 붙여야한다.\n",
    "\n",
    "User, Admin 관리하는 사람은 따로 있고, 인증서버 다루는 사람도 따로 있으면 못 건드리니까\n",
    "이런 문제를 해결할 수 있는 방법을 생각해보고 실험해보자\n"
   ]
  },
  {
   "cell_type": "code",
   "metadata": {
    "collapsed": true,
    "jupyter": {
     "is_executing": true
    }
   },
   "source": [
    "// 컴포지션 방식\n",
    "import kotlin.reflect.KClass\n",
    "import kotlin.reflect.KProperty\n",
    "\n",
    "// 기본 클래스 ------------------------------------------\n",
    "data class User(val id: Int)\n",
    "data class Admin(val id: Int)\n",
    "data class Cert(val id: Int) // 이런거도 추가하자면\n",
    "\n",
    "sealed class Authorization {\n",
    "    class Empty() : Authorization()\n",
    "    class Success(val role: String) : Authorization()\n",
    "}\n",
    "// ----------------------------------------------------\n",
    "\n",
    "// 요기는 auth 라이브러리 --------------------------------\n",
    "class Authorizor {\n",
    "    fun <T> authorize(target: T, mixin: LoginMixin<T>): Authorization {\n",
    "        // 의미론적으로 중복되는 것 같아\n",
    "        val mapper = object : LoginMixin<T> by mixin {\n",
    "            fun login() = target.login()\n",
    "        }\n",
    "\n",
    "        return mapper.login()\n",
    "    }\n",
    "}\n",
    "\n",
    "interface LoginMixin<T> {\n",
    "    fun T.login(): Authorization\n",
    "}\n",
    "\n",
    "// ----------------------------------------------------\n",
    "\n",
    "// 이하 기본 클래스들과 auth 라이브러리를 땡겨쓰는 곳\n",
    "\n",
    "// authorizor.authorize 를 호출하려면 Mixin 구현을 강제할 수 있긴하다.\n",
    "// 어댑터 레이어에서 이런 믹스인 만든다고 하면 유의미한 구조인가\n",
    "object UserLoginMixin : LoginMixin<User> {\n",
    "    override fun User.login(): Authorization {\n",
    "        return Authorization.Success(\"유저의 권한! 당신의 아이디는 ${this.id}\")\n",
    "    }\n",
    "}\n",
    "\n",
    "object AdminLoginMixin : LoginMixin<Admin> {\n",
    "    override fun Admin.login(): Authorization {\n",
    "        return Authorization.Success(\"어드민의 권한! 당신의 아이디는 ${this.id}\")\n",
    "    }\n",
    "}\n",
    "\n",
    "object CertLoginMixin : LoginMixin<Cert> {\n",
    "    override fun Cert.login(): Authorization {\n",
    "        return Authorization.Success(\"인증서의 권한! 인증서의 아이디는 ${this.id}\")\n",
    "    }\n",
    "}\n",
    "\n",
    "val authorizor = Authorizor()\n",
    "\n",
    "val user = User(1)\n",
    "println(\"User 인증 결과는! ${authorizor.authorize(user, UserLoginMixin)}\")\n",
    "\n",
    "val admin = Admin(2)\n",
    "println(\"AdminLoginMixin 인증 결과는! ${authorizor.authorize(admin, AdminLoginMixin)}\")\n",
    "\n",
    "val cert = Cert(3)\n",
    "println(\"CertLoginMixin 인증 결과는! ${authorizor.authorize(cert, CertLoginMixin)}\")\n"
   ],
   "outputs": [],
   "execution_count": null
  },
  {
   "metadata": {},
   "cell_type": "markdown",
   "source": "흠... 새로운 아이디어가 있으면 추가해보자."
  }
 ],
 "metadata": {
  "kernelspec": {
   "display_name": "Kotlin",
   "language": "kotlin",
   "name": "kotlin"
  },
  "language_info": {
   "name": "kotlin",
   "version": "1.9.23",
   "mimetype": "text/x-kotlin",
   "file_extension": ".kt",
   "pygments_lexer": "kotlin",
   "codemirror_mode": "text/x-kotlin",
   "nbconvert_exporter": ""
  }
 },
 "nbformat": 4,
 "nbformat_minor": 0
}
